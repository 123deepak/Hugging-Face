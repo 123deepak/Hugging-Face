{
  "nbformat": 4,
  "nbformat_minor": 0,
  "metadata": {
    "colab": {
      "provenance": []
    },
    "kernelspec": {
      "name": "python3",
      "display_name": "Python 3"
    },
    "language_info": {
      "name": "python"
    }
  },
  "cells": [
    {
      "cell_type": "code",
      "execution_count": 1,
      "metadata": {
        "colab": {
          "base_uri": "https://localhost:8080/"
        },
        "id": "ycdeyEPwRZGT",
        "outputId": "9764db60-5e0b-4041-d102-859e722609a5"
      },
      "outputs": [
        {
          "output_type": "stream",
          "name": "stdout",
          "text": [
            "Top 10 Models by Downloads:\n",
            "\n"
          ]
        },
        {
          "output_type": "stream",
          "name": "stderr",
          "text": [
            "/usr/local/lib/python3.10/dist-packages/huggingface_hub/utils/_auth.py:94: UserWarning: \n",
            "The secret `HF_TOKEN` does not exist in your Colab secrets.\n",
            "To authenticate with the Hugging Face Hub, create a token in your settings tab (https://huggingface.co/settings/tokens), set it as secret in your Google Colab and restart your session.\n",
            "You will be able to reuse this secret in all of your notebooks.\n",
            "Please note that authentication is recommended but still optional to access public models or datasets.\n",
            "  warnings.warn(\n"
          ]
        },
        {
          "output_type": "stream",
          "name": "stdout",
          "text": [
            "Model: google-t5/t5-small, Downloads: 4512194\n",
            "Model: facebook/bart-large-cnn, Downloads: 3046054\n",
            "Model: google-t5/t5-base, Downloads: 2301371\n",
            "Model: sshleifer/distilbart-cnn-12-6, Downloads: 809370\n",
            "Model: eenzeenee/t5-base-korean-summarization, Downloads: 736450\n",
            "Model: google-t5/t5-large, Downloads: 361596\n",
            "Model: philschmid/bart-large-cnn-samsum, Downloads: 252125\n",
            "Model: google-t5/t5-11b, Downloads: 152732\n",
            "Model: google/pegasus-xsum, Downloads: 105357\n",
            "Model: Falconsai/text_summarization, Downloads: 89906\n"
          ]
        }
      ],
      "source": [
        "from huggingface_hub import HfApi\n",
        "\n",
        "# Initialize the API\n",
        "api = HfApi()\n",
        "\n",
        "# List models with a limit of 5, sorted by downloads\n",
        "models = api.list_models(\n",
        "    filter=\"summarization\",\n",
        "    limit=10,\n",
        "    sort=\"downloads\",\n",
        "    full=True  # Include all model card metadata\n",
        ")\n",
        "\n",
        "# Print the model name, downloads, and size\n",
        "print(\"Top 10 Models by Downloads:\\n\")\n",
        "for model in models:\n",
        "    # Access downloads and model size in bytes\n",
        "    downloads = model.downloads\n",
        "\n",
        "    print(f\"Model: {model.modelId}, Downloads: {downloads}\")"
      ]
    },
    {
      "cell_type": "markdown",
      "source": [
        "# Heavy model"
      ],
      "metadata": {
        "id": "HyHsHAHO5ytL"
      }
    },
    {
      "cell_type": "code",
      "source": [
        "from transformers import pipeline\n",
        "heavy_model = pipeline(task='summarization', model='eenzeenee/t5-base-korean-summarization')"
      ],
      "metadata": {
        "id": "qCoBk4HfSLPE",
        "colab": {
          "base_uri": "https://localhost:8080/"
        },
        "outputId": "a6306384-2d9f-4fb3-c45b-9e04a3ec1d58"
      },
      "execution_count": 3,
      "outputs": [
        {
          "output_type": "stream",
          "name": "stderr",
          "text": [
            "Device set to use cpu\n"
          ]
        }
      ]
    },
    {
      "cell_type": "code",
      "source": [
        "# Check its parameters\n",
        "# Access the model\n",
        "model = heavy_model.model\n",
        "\n",
        "# Calculate total number of parameters\n",
        "total_params = sum(p.numel() for p in model.parameters())\n",
        "\n",
        "# Calculate the number of trainable parameters\n",
        "trainable_params = sum(p.numel() for p in model.parameters() if p.requires_grad)\n",
        "\n",
        "print(f\"Total parameters: {total_params}\")\n",
        "print(f\"Trainable parameters: {trainable_params}\")"
      ],
      "metadata": {
        "colab": {
          "base_uri": "https://localhost:8080/"
        },
        "id": "Ml5SCW_J5UDV",
        "outputId": "72321c38-eb32-4913-9269-412767bd8b74"
      },
      "execution_count": 4,
      "outputs": [
        {
          "output_type": "stream",
          "name": "stdout",
          "text": [
            "Total parameters: 275579136\n",
            "Trainable parameters: 275579136\n"
          ]
        }
      ]
    },
    {
      "cell_type": "markdown",
      "source": [
        "# Light model"
      ],
      "metadata": {
        "id": "bSNIqSwo5__M"
      }
    },
    {
      "cell_type": "code",
      "source": [
        "from transformers import pipeline\n",
        "light_model = pipeline(task='summarization', model='cnicu/t5-small-booksum')"
      ],
      "metadata": {
        "colab": {
          "base_uri": "https://localhost:8080/"
        },
        "id": "YUVEPehd5bwD",
        "outputId": "3288721e-a8d4-4d3c-c62f-cd6f01bf8870"
      },
      "execution_count": 5,
      "outputs": [
        {
          "output_type": "stream",
          "name": "stderr",
          "text": [
            "Device set to use cpu\n"
          ]
        }
      ]
    },
    {
      "cell_type": "code",
      "source": [
        "# Access the model\n",
        "model = light_model.model\n",
        "\n",
        "# Calculate total number of parameters\n",
        "total_params = sum(p.numel() for p in model.parameters())\n",
        "\n",
        "# Calculate the number of trainable parameters\n",
        "trainable_params = sum(p.numel() for p in model.parameters() if p.requires_grad)\n",
        "\n",
        "print(f\"Total parameters: {total_params}\")\n",
        "print(f\"Trainable parameters: {trainable_params}\")"
      ],
      "metadata": {
        "colab": {
          "base_uri": "https://localhost:8080/"
        },
        "id": "pZHM38BY5bz7",
        "outputId": "df1af231-8ac2-4a05-a733-bd99de752533"
      },
      "execution_count": 6,
      "outputs": [
        {
          "output_type": "stream",
          "name": "stdout",
          "text": [
            "Total parameters: 60506624\n",
            "Trainable parameters: 60506624\n"
          ]
        }
      ]
    },
    {
      "cell_type": "code",
      "source": [
        "print(\"Heavy model is {} times heavier than the ligher one\".format(275579136/60506624))"
      ],
      "metadata": {
        "colab": {
          "base_uri": "https://localhost:8080/"
        },
        "id": "DhA6awV96G_c",
        "outputId": "3d902e17-00b0-40a3-9c0d-a7b338afd4de"
      },
      "execution_count": 7,
      "outputs": [
        {
          "output_type": "stream",
          "name": "stdout",
          "text": [
            "Heavy model is 4.554528376926136 times heavier than the ligher one\n"
          ]
        }
      ]
    },
    {
      "cell_type": "code",
      "source": [
        "text = '''Space exploration has taken a significant leap forward with the successful launch of the Artemis I mission. The spacecraft, developed by NASA in collaboration with international partners, is set to test technologies and strategies that will be critical for future human missions to the Moon and beyond. The primary goal of Artemis I is to orbit the Moon and collect vital data, paving the way for astronauts to return to the lunar surface for the first time in over 50 years. During the mission, the spacecraft will deploy small satellites to conduct scientific experiments and gather information about deep space environments. Experts believe that the success of Artemis I could reignite global interest in space exploration and inspire a new generation of scientists and engineers. Meanwhile, private space companies are also ramping up their efforts, with plans for lunar tourism and commercial space stations becoming more feasible. This renewed focus on space exploration comes at a time when international cooperation and innovation are seen as crucial to addressing the challenges of a rapidly changing world.'''\n"
      ],
      "metadata": {
        "id": "fouBbu_W3p6p"
      },
      "execution_count": 11,
      "outputs": []
    },
    {
      "cell_type": "markdown",
      "source": [
        "# Compare their performance"
      ],
      "metadata": {
        "id": "KC3yBhUY6WTS"
      }
    },
    {
      "cell_type": "code",
      "source": [
        "output_heavy = heavy_model(text, max_length = 75, do_sample = False, clean_up_tokenization_spaces=True)\n",
        "output_light = light_model(text, max_length = 75, do_sample = False, clean_up_tokenization_spaces=True)"
      ],
      "metadata": {
        "id": "nNexS8K4Sjk7"
      },
      "execution_count": 21,
      "outputs": []
    },
    {
      "cell_type": "code",
      "source": [
        "print(\"Heavy model output:\")\n",
        "print(output_heavy[0]['summary_text'])\n",
        "\n",
        "print(\"\\nLight model output:\")\n",
        "print(output_light[0]['summary_text'])"
      ],
      "metadata": {
        "colab": {
          "base_uri": "https://localhost:8080/"
        },
        "id": "nBmNAOJR7xIm",
        "outputId": "a7886d11-d2c8-4e94-b5e3-5552563757fe"
      },
      "execution_count": 22,
      "outputs": [
        {
          "output_type": "stream",
          "name": "stdout",
          "text": [
            "Heavy model output:\n",
            "Artemis I mission is to orbit the Moon and collect vital data and gather information about deep space environments. Artemis I could \n",
            "\n",
            "Light model output:\n",
            "Space exploration has taken a significant leap forward with the successful launch of the Artemis I mission. the spacecraft is set to test technologies and strategies that will be critical for future human missions to the Moon and beyond. The primary goal of the mission is to orbit the moon and collect vital data, paving the way for astronauts to return to the lunar\n"
          ]
        }
      ]
    },
    {
      "cell_type": "code",
      "source": [],
      "metadata": {
        "id": "V-yOKI-V9ePd"
      },
      "execution_count": null,
      "outputs": []
    }
  ]
}